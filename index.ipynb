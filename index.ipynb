{
 "cells": [
  {
   "cell_type": "markdown",
   "metadata": {},
   "source": [
    "# Instructions:"
   ]
  },
  {
   "cell_type": "markdown",
   "metadata": {},
   "source": [
    "## Getting Started\n",
    "In this exercise, we will be using data from the `top 500 rolling stone albums`. We have this data contained in the `data.csv` file. We will be building out the following functions to answer questions and interact with this data.\n",
    "\n",
    "> **remember:** reading from a csv file in python looks like the following:\n",
    "\n",
    "```python \n",
    "import csv\n",
    "\n",
    "    with open(file_name) as f:\n",
    "        # we are using DictReader because we want our information to be in dictionary format.\n",
    "        reader = csv.DictReader(f)\n",
    "        # some more code\n",
    "```\n",
    "\n",
    "Once we have our `reader` reading our file as dictionaries, we want our data to be a list of dictionaries. So, we need to loop through our `reader` and create a list. *hint: list comprehension / for loops are your friend\"\n",
    "\n",
    "```python\n",
    "# our data will look something like this once we have read it and turned it into a list of `OrderedDict`s\n",
    "# don't worry, the ordered dicts look different but we can interact with them the same way we do normal dicts\n",
    "[OrderedDict([('number', '1'), ('year', '1967'), ('album', \"Sgt. Pepper's Lonely Hearts Club Band\"), ('artist', 'The Beatles'), ('genre', 'Rock'), ('subgenre', 'Rock & Roll, Psychedelic Rock')]), OrderedDict([('number', '2'), ('year', '1966'), ('album', 'Pet Sounds'), ('artist', 'The Beach Boys'), ('genre', 'Rock'), ('subgenre', 'Pop Rock, Psychedelic Rock')]), OrderedDict([('number', '3'), ('year', '1966'), ('album', 'Revolver'), ('artist', 'The Beatles'), ('genre', 'Rock'), ('subgenre', 'Psychedelic Rock, Pop Rock')])]\n",
    "```\n",
    "\n",
    "After we have our data formated the way we want it, we can now begin working on defining our functions."
   ]
  },
  {
   "cell_type": "markdown",
   "metadata": {},
   "source": [
    "\n",
    "### Functions to build-out:\n",
    "\n",
    "Each of the following functions can be defined in the `functions.py` file. \n",
    "\n",
    "* **Searching functions**\n",
    "  * Find by name - Takes in a string that represents the name of an album. Should return a dictionary with the correct album, or return `None`.\n",
    "  * Find by rank - Takes in a number that represents the rank in the list of top albums and returns the album with that rank. If there is no album with that rank, it returns `None`.\n",
    "  * Find by year - Takes in a number for the year in which an album was released and returns a list of albums that were released in that year. If there are no albums released in the given year, it returns an empty list.\n",
    "  * Find by years - Takes in a start year and end year. Returns a list of all albums that were released on or between the start and end years. If no albums are found for those years, then an empty list is returned. \n",
    "  * Find by ranks - Takes in a start rank and end rank. Returns a list of albums that are ranked between the start and end ranks. If no albums are found for those ranks, then an empty list is returned.\n",
    "* **All functions**\n",
    "  * All titles - Returns a list of titles for each album.\n",
    "  * All artists - Returns a list of artist names for each album.\n",
    "* **Questions to answer / functions**\n",
    "  * Artists with the most albums - Returns the artist with the highest amount of albums on the list of top albums \n",
    "  * Most popular word - Returns the word used most in amongst all album titles\n",
    "  * Histogram of albums by decade - Returns a histogram with each decade pointing to the number of albums released during that decade.\n",
    "  * Histogram by genre - Returns a histogram with each genre pointing to the number of albums that are categorized as being in that genre."
   ]
  },
  {
   "cell_type": "markdown",
   "metadata": {},
   "source": []
  }
 ],
 "metadata": {
  "kernelspec": {
   "display_name": "Python 3",
   "language": "python",
   "name": "python3"
  },
  "language_info": {
   "codemirror_mode": {
    "name": "ipython",
    "version": 3
   },
   "file_extension": ".py",
   "mimetype": "text/x-python",
   "name": "python",
   "nbconvert_exporter": "python",
   "pygments_lexer": "ipython3",
   "version": "3.6.4"
  }
 },
 "nbformat": 4,
 "nbformat_minor": 2
}
